{
  "cells": [
    {
      "cell_type": "markdown",
      "metadata": {
        "id": "mApmIWsscP47"
      },
      "source": [
        "<center>\n",
        "    <img src=\"https://cf-courses-data.s3.us.cloud-object-storage.appdomain.cloud/IBMDeveloperSkillsNetwork-DS0105EN-SkillsNetwork/labs/Module2/images/SN_web_lightmode.png\" width=\"300\" alt=\"cognitiveclass.ai logo\">\n",
        "</center>\n"
      ]
    },
    {
      "cell_type": "markdown",
      "metadata": {
        "id": "eTWKsoIhcP49"
      },
      "source": [
        "#### Add your code below following the instructions given in the course\n"
      ]
    },
    {
      "cell_type": "markdown",
      "source": [
        "# My First jupyter Notebook"
      ],
      "metadata": {
        "id": "Bug3vF5hcr8S"
      }
    },
    {
      "cell_type": "markdown",
      "source": [
        "## Introduction\n",
        "This notebook explores the world of data science, delving into the essential languages, libraries, and tools that empower data professionals to extract knowledge and insights from data."
      ],
      "metadata": {
        "id": "oBDTYrWWc0mE"
      }
    },
    {
      "cell_type": "markdown",
      "source": [
        "### Data Science Languages\n",
        "* Python\n",
        "* R\n",
        "* SQL\n",
        "* Julia\n",
        "* Scala"
      ],
      "metadata": {
        "id": "z1KV7Fygc-ec"
      }
    },
    {
      "cell_type": "markdown",
      "source": [
        "### Data Science Libraries\n",
        "* Python\n",
        "    * Pandas\n",
        "    * NumPy\n",
        "    * Matplotlib\n",
        "    * Seaborn\n",
        "    * Scikit-learn\n",
        "* R\n",
        "    * ggplot2\n",
        "    * dplyr\n",
        "    * tidyr\n",
        "    * caret"
      ],
      "metadata": {
        "id": "YPx78_fwdIsy"
      }
    },
    {
      "cell_type": "markdown",
      "source": [
        "### Data Science Tools\n",
        "| Tool          | Description                                                                                                                       |\n",
        "|---------------|-----------------------------------------------------------------------------------------------------------------------------------|\n",
        "| Jupyter Notebook | An interactive web-based environment for data analysis and visualization.                                                                |\n",
        "| VS Code        | A powerful code editor with extensions for data science tasks.                                                                    |\n",
        "| Google Colab   | A cloud-based environment that provides free access to GPUs and TPUs for machine learning tasks.                                      |\n",
        "| Apache Spark    | A distributed computing framework for large-scale data processing.                                                                  |\n",
        "| Tableau        | A data visualization tool for creating interactive dashboards and reports.                                                       |\n",
        "| Power BI       | A business analytics service for analyzing data and sharing insights.                                                               |\n",
        "| SAS            | A suite of software for advanced analytics, business intelligence, and data management.                                              |\n",
        "| RapidMiner      | A data science platform for data preparation, machine learning, and model deployment.                                                |\n",
        "| KNIME           | An open-source data analytics platform for data integration, processing, and visualization.                                           |"
      ],
      "metadata": {
        "id": "X1Pr3u7HdJhQ"
      }
    },
    {
      "cell_type": "markdown",
      "source": [
        "## Arithmetic Expression Examples\n",
        "\n",
        "In this section, we'll explore some basic arithmetic expressions in Python. We'll cover addition, subtraction, multiplication, and division."
      ],
      "metadata": {
        "id": "OnTLbk79dXjd"
      }
    },
    {
      "cell_type": "code",
      "source": [
        "# Multiply two numbers\n",
        "result_multiply = 5 * 7\n",
        "print(\"Result of multiplication:\", result_multiply)\n",
        "\n",
        "# Add two numbers\n",
        "result_add = 10 + 3\n",
        "print(\"Result of addition:\", result_add)"
      ],
      "metadata": {
        "colab": {
          "base_uri": "https://localhost:8080/"
        },
        "id": "LGVIJYPZc-YN",
        "outputId": "8a67f286-50c0-4a3c-90d1-6bdb611e28bc"
      },
      "execution_count": null,
      "outputs": [
        {
          "output_type": "stream",
          "name": "stdout",
          "text": [
            "Result of multiplication: 35\n",
            "Result of addition: 13\n"
          ]
        }
      ]
    },
    {
      "cell_type": "code",
      "source": [
        "def minutes_to_hours(minutes):\n",
        "  \"\"\"Converts minutes to hours.\"\"\"\n",
        "  return minutes / 60"
      ],
      "metadata": {
        "id": "TElnPiXNc-VE"
      },
      "execution_count": null,
      "outputs": []
    },
    {
      "cell_type": "markdown",
      "source": [
        "## Objectives\n",
        "* Objective 1\n",
        "* Objective 2\n",
        "* Objective *3*"
      ],
      "metadata": {
        "id": "Ijma29ladtMt"
      }
    },
    {
      "cell_type": "markdown",
      "source": [
        "### Author: Ahmed Elsayed"
      ],
      "metadata": {
        "id": "aMPLk-M4d1g9"
      }
    },
    {
      "cell_type": "code",
      "execution_count": null,
      "metadata": {
        "id": "ki83n2GBcP4_"
      },
      "outputs": [],
      "source": []
    },
    {
      "cell_type": "code",
      "source": [],
      "metadata": {
        "id": "lbDOkFQ3dq7I"
      },
      "execution_count": null,
      "outputs": []
    }
  ],
  "metadata": {
    "kernelspec": {
      "display_name": "Python",
      "language": "python",
      "name": "conda-env-python-py"
    },
    "language_info": {
      "name": ""
    },
    "colab": {
      "provenance": []
    }
  },
  "nbformat": 4,
  "nbformat_minor": 0
}